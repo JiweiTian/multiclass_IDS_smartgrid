{
 "cells": [
  {
   "cell_type": "code",
   "execution_count": 1,
   "metadata": {},
   "outputs": [],
   "source": [
    "import pandas as pd\n",
    "from scipy.io import arff\n",
    "import numpy as np\n",
    "from scipy import stats\n",
    "from sklearn.model_selection import train_test_split\n",
    "from sklearn import preprocessing\n",
    "from sklearn.metrics import f1_score, accuracy_score, matthews_corrcoef\n"
   ]
  },
  {
   "cell_type": "code",
   "execution_count": null,
   "metadata": {},
   "outputs": [
    {
     "name": "stdout",
     "output_type": "stream",
     "text": [
      "Loading dataset #1\n",
      "Loading dataset #2\n"
     ]
    }
   ],
   "source": [
    "print('Loading dataset #1')\n",
    "data = pd.DataFrame(arff.loadarff('input/power_multiclass/data1.arff')[0])\n",
    "\n",
    "for i in range(2,16):\n",
    "    print('Loading dataset #{}'.format(i))\n",
    "    dataTemp = pd.DataFrame(arff.loadarff('input/power_multiclass/data{}.arff'.format(i))[0])\n",
    "    data = pd.concat([data,dataTemp],axis=0)\n",
    "\n",
    "print(\"Finished Loading. Final Size = {}\".format(data.shape))"
   ]
  },
  {
   "cell_type": "code",
   "execution_count": null,
   "metadata": {},
   "outputs": [],
   "source": [
    "def dataProc(df):\n",
    "    '''\n",
    "    This function takes a dataframe and splits it into data and labels, proccesses them into numpy arrays and\n",
    "    splits them into training, validation, and testing data and labels.\n",
    "    '''\n",
    "    df = df.astype(np.float64)\n",
    "    label = df['marker'].astype(int)\n",
    "    df = df.drop(['marker'], axis=1)\n",
    "    \n",
    "    df = df.drop(['snort_log1','snort_log2','snort_log3','snort_log4',\n",
    "                'control_panel_log1','control_panel_log2','control_panel_log3','control_panel_log4',\n",
    "                'relay1_log','relay2_log','relay3_log','relay4_log'], axis=1)\n",
    "    \n",
    "    df = df.reset_index()\n",
    "    \n",
    "    df = df.replace(-np.inf, 0)\n",
    "    df = df.replace(np.inf, 0)\n",
    "\n",
    "    \n",
    "    # Converting to arrays\n",
    "    X = np.asarray(df)\n",
    "    y =  np.asarray(label)\n",
    "    \n",
    "    # Scaling data\n",
    "    scalar = preprocessing.MinMaxScaler()\n",
    "    X = scalar.fit_transform(X)\n",
    "    \n",
    "    return X,y"
   ]
  },
  {
   "cell_type": "code",
   "execution_count": null,
   "metadata": {},
   "outputs": [],
   "source": [
    "X,y = dataProc(data)\n",
    "print('Size of X: {}'.format(X.shape))\n",
    "print('Size of y: {}'.format(y.shape))"
   ]
  },
  {
   "cell_type": "code",
   "execution_count": null,
   "metadata": {},
   "outputs": [],
   "source": [
    "X_train, X_test, y_train, y_test = train_test_split(X, y, test_size=0.2)"
   ]
  },
  {
   "cell_type": "code",
   "execution_count": null,
   "metadata": {},
   "outputs": [],
   "source": [
    "import erlc\n",
    "\n",
    "model = erlc.ERLC()"
   ]
  },
  {
   "cell_type": "code",
   "execution_count": null,
   "metadata": {},
   "outputs": [],
   "source": [
    "# model.fit(X_train, y_train, sae_epochs = 2, outerNN_epochs = 2, innerNN_epochs = 3)\n",
    "model.fit(X_train, y_train)"
   ]
  },
  {
   "cell_type": "code",
   "execution_count": null,
   "metadata": {},
   "outputs": [],
   "source": [
    "y_pred = model.predict(X_test)\n",
    "print(y_pred.shape)"
   ]
  },
  {
   "cell_type": "code",
   "execution_count": null,
   "metadata": {},
   "outputs": [],
   "source": [
    "acc = accuracy_score(y_test, y_pred)\n",
    "f1 = f1_score(y_test, y_pred, average='weighted')\n",
    "mcc = matthews_corrcoef(y_test, y_pred)\n",
    "print(\"Accuracy = {}, F1-score = {}, MCC = {}\".format(acc, f1, mcc))"
   ]
  },
  {
   "cell_type": "code",
   "execution_count": null,
   "metadata": {},
   "outputs": [],
   "source": []
  }
 ],
 "metadata": {
  "kernelspec": {
   "display_name": "multiclass_IDS_env",
   "language": "python",
   "name": "multiclass_ids_env"
  },
  "language_info": {
   "codemirror_mode": {
    "name": "ipython",
    "version": 3
   },
   "file_extension": ".py",
   "mimetype": "text/x-python",
   "name": "python",
   "nbconvert_exporter": "python",
   "pygments_lexer": "ipython3",
   "version": "3.8.2"
  }
 },
 "nbformat": 4,
 "nbformat_minor": 4
}
