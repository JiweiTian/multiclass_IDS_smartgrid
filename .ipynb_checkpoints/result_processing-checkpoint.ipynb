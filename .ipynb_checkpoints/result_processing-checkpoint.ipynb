{
 "cells": [
  {
   "cell_type": "code",
   "execution_count": 1,
   "metadata": {},
   "outputs": [],
   "source": [
    "import pandas as pd\n",
    "import seaborn as sns\n",
    "import matplotlib.pyplot as plt\n",
    "import numpy as np\n",
    "import os"
   ]
  },
  {
   "cell_type": "code",
   "execution_count": 2,
   "metadata": {},
   "outputs": [],
   "source": [
    "data_dt = pd.read_excel('output/Results_10CV.xlsx', sheet_name = 'DecisionTreeClassifier')\n",
    "data_rf = pd.read_excel('output/Results_10CV.xlsx', sheet_name = 'RandomForestClassifier')\n",
    "data_knn = pd.read_excel('output/Results_10CV.xlsx', sheet_name = 'KNeighborsClassifier')\n",
    "data_erlc = pd.read_excel('output/Results_10CV.xlsx', sheet_name = 'ERLC')"
   ]
  },
  {
   "cell_type": "code",
   "execution_count": 3,
   "metadata": {},
   "outputs": [
    {
     "data": {
      "text/html": [
       "<div>\n",
       "<style scoped>\n",
       "    .dataframe tbody tr th:only-of-type {\n",
       "        vertical-align: middle;\n",
       "    }\n",
       "\n",
       "    .dataframe tbody tr th {\n",
       "        vertical-align: top;\n",
       "    }\n",
       "\n",
       "    .dataframe thead th {\n",
       "        text-align: right;\n",
       "    }\n",
       "</style>\n",
       "<table border=\"1\" class=\"dataframe\">\n",
       "  <thead>\n",
       "    <tr style=\"text-align: right;\">\n",
       "      <th></th>\n",
       "      <th>Unnamed: 0</th>\n",
       "      <th>Accuracy</th>\n",
       "      <th>F1-Score</th>\n",
       "      <th>MCC</th>\n",
       "      <th>Training Time</th>\n",
       "      <th>Testing Time</th>\n",
       "    </tr>\n",
       "  </thead>\n",
       "  <tbody>\n",
       "    <tr>\n",
       "      <th>0</th>\n",
       "      <td>0</td>\n",
       "      <td>0.913498</td>\n",
       "      <td>0.913425</td>\n",
       "      <td>0.910660</td>\n",
       "      <td>16.258458</td>\n",
       "      <td>0.006604</td>\n",
       "    </tr>\n",
       "    <tr>\n",
       "      <th>1</th>\n",
       "      <td>1</td>\n",
       "      <td>0.914264</td>\n",
       "      <td>0.914373</td>\n",
       "      <td>0.911387</td>\n",
       "      <td>19.327668</td>\n",
       "      <td>0.003139</td>\n",
       "    </tr>\n",
       "    <tr>\n",
       "      <th>2</th>\n",
       "      <td>2</td>\n",
       "      <td>0.905716</td>\n",
       "      <td>0.905824</td>\n",
       "      <td>0.902581</td>\n",
       "      <td>9.742313</td>\n",
       "      <td>0.002855</td>\n",
       "    </tr>\n",
       "    <tr>\n",
       "      <th>3</th>\n",
       "      <td>3</td>\n",
       "      <td>0.911712</td>\n",
       "      <td>0.911722</td>\n",
       "      <td>0.908823</td>\n",
       "      <td>9.502948</td>\n",
       "      <td>0.002746</td>\n",
       "    </tr>\n",
       "    <tr>\n",
       "      <th>4</th>\n",
       "      <td>4</td>\n",
       "      <td>0.911202</td>\n",
       "      <td>0.911306</td>\n",
       "      <td>0.908303</td>\n",
       "      <td>9.647490</td>\n",
       "      <td>0.003042</td>\n",
       "    </tr>\n",
       "  </tbody>\n",
       "</table>\n",
       "</div>"
      ],
      "text/plain": [
       "   Unnamed: 0  Accuracy  F1-Score       MCC  Training Time  Testing Time\n",
       "0           0  0.913498  0.913425  0.910660      16.258458      0.006604\n",
       "1           1  0.914264  0.914373  0.911387      19.327668      0.003139\n",
       "2           2  0.905716  0.905824  0.902581       9.742313      0.002855\n",
       "3           3  0.911712  0.911722  0.908823       9.502948      0.002746\n",
       "4           4  0.911202  0.911306  0.908303       9.647490      0.003042"
      ]
     },
     "execution_count": 3,
     "metadata": {},
     "output_type": "execute_result"
    }
   ],
   "source": [
    "data_dt.head()"
   ]
  },
  {
   "cell_type": "code",
   "execution_count": 4,
   "metadata": {},
   "outputs": [],
   "source": [
    "def get_metric(data_array, metric='Accuracy'):\n",
    "    models = ['DecisionTreeClassifier', 'RandomForestClassifier', 'KNeighborsClassifier', 'ERLC' ]\n",
    "    df = pd.DataFrame()\n",
    "    for i in range(len(data_array)):\n",
    "        temp = data_array[i]\n",
    "        temp2 = temp[metric]\n",
    "        df[models[i]] = temp2\n",
    "        \n",
    "    return df"
   ]
  },
  {
   "cell_type": "code",
   "execution_count": 5,
   "metadata": {},
   "outputs": [],
   "source": [
    "model_names = ['DT', 'RF', 'KNN', 'ERLC']"
   ]
  },
  {
   "cell_type": "code",
   "execution_count": 6,
   "metadata": {},
   "outputs": [],
   "source": [
    "acc = get_metric([data_dt, data_rf, data_knn, data_erlc])\n",
    "f1 = get_metric([data_dt, data_rf, data_knn, data_erlc], metric='F1-Score')\n",
    "mcc = get_metric([data_dt, data_rf, data_knn, data_erlc], metric='MCC')"
   ]
  },
  {
   "cell_type": "markdown",
   "metadata": {},
   "source": [
    "## 1.0 Table"
   ]
  },
  {
   "cell_type": "code",
   "execution_count": 7,
   "metadata": {},
   "outputs": [
    {
     "data": {
      "text/html": [
       "<div>\n",
       "<style scoped>\n",
       "    .dataframe tbody tr th:only-of-type {\n",
       "        vertical-align: middle;\n",
       "    }\n",
       "\n",
       "    .dataframe tbody tr th {\n",
       "        vertical-align: top;\n",
       "    }\n",
       "\n",
       "    .dataframe thead th {\n",
       "        text-align: right;\n",
       "    }\n",
       "</style>\n",
       "<table border=\"1\" class=\"dataframe\">\n",
       "  <thead>\n",
       "    <tr style=\"text-align: right;\">\n",
       "      <th></th>\n",
       "      <th>DecisionTreeClassifier</th>\n",
       "      <th>RandomForestClassifier</th>\n",
       "      <th>KNeighborsClassifier</th>\n",
       "      <th>ERLC</th>\n",
       "    </tr>\n",
       "  </thead>\n",
       "  <tbody>\n",
       "    <tr>\n",
       "      <th>0</th>\n",
       "      <td>0.913498</td>\n",
       "      <td>0.928936</td>\n",
       "      <td>0.758612</td>\n",
       "      <td>0.953304</td>\n",
       "    </tr>\n",
       "    <tr>\n",
       "      <th>1</th>\n",
       "      <td>0.914264</td>\n",
       "      <td>0.918474</td>\n",
       "      <td>0.746619</td>\n",
       "      <td>0.946925</td>\n",
       "    </tr>\n",
       "    <tr>\n",
       "      <th>2</th>\n",
       "      <td>0.905716</td>\n",
       "      <td>0.920643</td>\n",
       "      <td>0.752615</td>\n",
       "      <td>0.951135</td>\n",
       "    </tr>\n",
       "    <tr>\n",
       "      <th>3</th>\n",
       "      <td>0.911712</td>\n",
       "      <td>0.926257</td>\n",
       "      <td>0.753636</td>\n",
       "      <td>0.950880</td>\n",
       "    </tr>\n",
       "    <tr>\n",
       "      <th>4</th>\n",
       "      <td>0.911202</td>\n",
       "      <td>0.926257</td>\n",
       "      <td>0.757846</td>\n",
       "      <td>0.954070</td>\n",
       "    </tr>\n",
       "  </tbody>\n",
       "</table>\n",
       "</div>"
      ],
      "text/plain": [
       "   DecisionTreeClassifier  RandomForestClassifier  KNeighborsClassifier  \\\n",
       "0                0.913498                0.928936              0.758612   \n",
       "1                0.914264                0.918474              0.746619   \n",
       "2                0.905716                0.920643              0.752615   \n",
       "3                0.911712                0.926257              0.753636   \n",
       "4                0.911202                0.926257              0.757846   \n",
       "\n",
       "       ERLC  \n",
       "0  0.953304  \n",
       "1  0.946925  \n",
       "2  0.951135  \n",
       "3  0.950880  \n",
       "4  0.954070  "
      ]
     },
     "execution_count": 7,
     "metadata": {},
     "output_type": "execute_result"
    }
   ],
   "source": [
    "acc.head()"
   ]
  },
  {
   "cell_type": "code",
   "execution_count": 8,
   "metadata": {},
   "outputs": [],
   "source": [
    "def getStats(df):\n",
    "    '''\n",
    "    Get the mean and standard deviation of columns of a dataframe\n",
    "    '''\n",
    "    means = []\n",
    "    stds = []\n",
    "    for c in df.columns:\n",
    "        means.append(df[c].mean())\n",
    "        stds.append(df[c].std())\n",
    "\n",
    "    return means,stds"
   ]
  },
  {
   "cell_type": "code",
   "execution_count": 9,
   "metadata": {},
   "outputs": [],
   "source": [
    "acc_means, acc_stds = getStats(acc)\n",
    "f1_means, f1_stds = getStats(f1)\n",
    "mcc_means, mcc_stds = getStats(mcc)"
   ]
  },
  {
   "cell_type": "markdown",
   "metadata": {},
   "source": [
    "We will combine means and standard deviations with \"plus-minus sign\""
   ]
  },
  {
   "cell_type": "code",
   "execution_count": 10,
   "metadata": {},
   "outputs": [],
   "source": [
    "decimals = 4\n",
    "plusMinus = \"$\\pm$\"\n",
    "acc_final = []\n",
    "f1_final = []\n",
    "mcc_final = []\n",
    "for i in range(len(model_names)):\n",
    "    acc_str = '{} {} {}'.format( round(acc_means[i], decimals) ,plusMinus, round(acc_stds[i],decimals) )\n",
    "    acc_final.append(acc_str)\n",
    "    f1_str = '{} {} {}'.format( round(f1_means[i], decimals) , plusMinus, round(f1_stds[i],decimals) )\n",
    "    f1_final.append(f1_str)\n",
    "    mcc_str = '{} {} {}'.format( round(mcc_means[i], decimals), plusMinus, round(mcc_stds[i],decimals) )\n",
    "    mcc_final.append(mcc_str)"
   ]
  },
  {
   "cell_type": "markdown",
   "metadata": {},
   "source": [
    "Now we will build the results as a table seperated by \"&\" for use in latex"
   ]
  },
  {
   "cell_type": "code",
   "execution_count": 11,
   "metadata": {},
   "outputs": [],
   "source": [
    "results_df = pd.DataFrame({\n",
    "    \"Model\": model_names,\n",
    "    \"Accuracy\": acc_final,\n",
    "    \"F1-Score\": f1_final,\n",
    "    \"MCC\": mcc_final,\n",
    "})\n",
    "results_df.to_csv('output/resultsTable1.txt', sep = '&', index=False)"
   ]
  },
  {
   "cell_type": "code",
   "execution_count": 12,
   "metadata": {},
   "outputs": [],
   "source": [
    "with open('output/resultsTable1.txt', 'r') as istr:\n",
    "    with open('output/latex/resultsTable.txt', 'w') as ostr:\n",
    "        for line in istr:\n",
    "            line = line.rstrip('\\n') + '\\\\\\\\'\n",
    "            print(line, file=ostr)\n",
    "            \n",
    "# Remove old file\n",
    "os.remove('output/resultsTable1.txt') "
   ]
  },
  {
   "cell_type": "markdown",
   "metadata": {},
   "source": [
    "## 2.0 Plots\n"
   ]
  },
  {
   "cell_type": "markdown",
   "metadata": {},
   "source": [
    "### 2.1 Correlation Plots"
   ]
  },
  {
   "cell_type": "markdown",
   "metadata": {},
   "source": [
    "#### 2.1.1 Correlation Per Attack Label"
   ]
  },
  {
   "cell_type": "code",
   "execution_count": 13,
   "metadata": {},
   "outputs": [
    {
     "data": {
      "text/html": [
       "<div>\n",
       "<style scoped>\n",
       "    .dataframe tbody tr th:only-of-type {\n",
       "        vertical-align: middle;\n",
       "    }\n",
       "\n",
       "    .dataframe tbody tr th {\n",
       "        vertical-align: top;\n",
       "    }\n",
       "\n",
       "    .dataframe thead th {\n",
       "        text-align: right;\n",
       "    }\n",
       "</style>\n",
       "<table border=\"1\" class=\"dataframe\">\n",
       "  <thead>\n",
       "    <tr style=\"text-align: right;\">\n",
       "      <th></th>\n",
       "      <th>Attack Label</th>\n",
       "      <th>Pearson Correlation</th>\n",
       "    </tr>\n",
       "  </thead>\n",
       "  <tbody>\n",
       "    <tr>\n",
       "      <th>0</th>\n",
       "      <td>1</td>\n",
       "      <td>0.8594</td>\n",
       "    </tr>\n",
       "    <tr>\n",
       "      <th>1</th>\n",
       "      <td>2</td>\n",
       "      <td>0.9504</td>\n",
       "    </tr>\n",
       "    <tr>\n",
       "      <th>2</th>\n",
       "      <td>3</td>\n",
       "      <td>0.9296</td>\n",
       "    </tr>\n",
       "    <tr>\n",
       "      <th>3</th>\n",
       "      <td>4</td>\n",
       "      <td>0.8935</td>\n",
       "    </tr>\n",
       "    <tr>\n",
       "      <th>4</th>\n",
       "      <td>5</td>\n",
       "      <td>0.9664</td>\n",
       "    </tr>\n",
       "  </tbody>\n",
       "</table>\n",
       "</div>"
      ],
      "text/plain": [
       "  Attack Label  Pearson Correlation\n",
       "0            1               0.8594\n",
       "1            2               0.9504\n",
       "2            3               0.9296\n",
       "3            4               0.8935\n",
       "4            5               0.9664"
      ]
     },
     "execution_count": 13,
     "metadata": {},
     "output_type": "execute_result"
    }
   ],
   "source": [
    "corr_results = pd.read_csv('output/results_pearsonCorr.csv')\n",
    "corr_results['Attack Label'] = corr_results['Attack Label'].apply(str)\n",
    "corr_results.head()"
   ]
  },
  {
   "cell_type": "code",
   "execution_count": 26,
   "metadata": {},
   "outputs": [
    {
     "data": {
      "image/png": "[encoded data removed]",
      "text/plain": [
       "<Figure size 720x576 with 1 Axes>"
      ]
     },
     "metadata": {
      "needs_background": "light"
     },
     "output_type": "display_data"
    }
   ],
   "source": [
    "indexes = range(36)\n",
    "plt.figure(figsize = (10,8))\n",
    "plt.barh( indexes, corr_results['Pearson Correlation'], color = \"grey\")\n",
    "plt.yticks(indexes, corr_results['Attack Label'], fontsize = 12)\n",
    "plt.xticks(fontsize=14)\n",
    "plt.xlabel('Pearson Correlation', fontsize = 16)\n",
    "plt.ylabel('Scenario Label', fontsize = 16)\n",
    "plt.savefig('output/figures/pearsonCorrPerLabel.pdf')\n",
    "plt.savefig('output/figures/pearsonCorrPerLabel.png')"
   ]
  },
  {
   "cell_type": "markdown",
   "metadata": {},
   "source": [
    "#### 2.1.2 Correlation Per Split"
   ]
  },
  {
   "cell_type": "code",
   "execution_count": 15,
   "metadata": {},
   "outputs": [],
   "source": [
    "corr_split_results = pd.read_csv('output/results_avgCorrelationPerSplit.csv')"
   ]
  },
  {
   "cell_type": "code",
   "execution_count": 16,
   "metadata": {},
   "outputs": [
    {
     "data": {
      "text/html": [
       "<div>\n",
       "<style scoped>\n",
       "    .dataframe tbody tr th:only-of-type {\n",
       "        vertical-align: middle;\n",
       "    }\n",
       "\n",
       "    .dataframe tbody tr th {\n",
       "        vertical-align: top;\n",
       "    }\n",
       "\n",
       "    .dataframe thead th {\n",
       "        text-align: right;\n",
       "    }\n",
       "</style>\n",
       "<table border=\"1\" class=\"dataframe\">\n",
       "  <thead>\n",
       "    <tr style=\"text-align: right;\">\n",
       "      <th></th>\n",
       "      <th>Split</th>\n",
       "      <th>Average Correlation</th>\n",
       "    </tr>\n",
       "  </thead>\n",
       "  <tbody>\n",
       "    <tr>\n",
       "      <th>0</th>\n",
       "      <td>0.10</td>\n",
       "      <td>0.815292</td>\n",
       "    </tr>\n",
       "    <tr>\n",
       "      <th>1</th>\n",
       "      <td>0.15</td>\n",
       "      <td>0.834964</td>\n",
       "    </tr>\n",
       "    <tr>\n",
       "      <th>2</th>\n",
       "      <td>0.20</td>\n",
       "      <td>0.890081</td>\n",
       "    </tr>\n",
       "    <tr>\n",
       "      <th>3</th>\n",
       "      <td>0.25</td>\n",
       "      <td>0.897275</td>\n",
       "    </tr>\n",
       "    <tr>\n",
       "      <th>4</th>\n",
       "      <td>0.30</td>\n",
       "      <td>0.926139</td>\n",
       "    </tr>\n",
       "  </tbody>\n",
       "</table>\n",
       "</div>"
      ],
      "text/plain": [
       "   Split  Average Correlation\n",
       "0   0.10             0.815292\n",
       "1   0.15             0.834964\n",
       "2   0.20             0.890081\n",
       "3   0.25             0.897275\n",
       "4   0.30             0.926139"
      ]
     },
     "execution_count": 16,
     "metadata": {},
     "output_type": "execute_result"
    }
   ],
   "source": [
    "corr_split_results.head()"
   ]
  },
  {
   "cell_type": "code",
   "execution_count": 27,
   "metadata": {},
   "outputs": [
    {
     "data": {
      "image/png": "[encoded data removed]",
      "text/plain": [
       "<Figure size 576x288 with 1 Axes>"
      ]
     },
     "metadata": {
      "needs_background": "light"
     },
     "output_type": "display_data"
    }
   ],
   "source": [
    "splits = corr_split_results['Split']\n",
    "avg_corr = corr_split_results['Average Correlation']\n",
    "\n",
    "plt.figure(figsize = (8,4))\n",
    "plt.plot(splits,avg_corr, linewidth = 3)\n",
    "plt.scatter(splits, avg_corr, linewidth = 3, marker = 's')\n",
    "plt.xticks(fontsize=14)\n",
    "plt.yticks(fontsize=14)\n",
    "plt.xlabel('Split Factor', fontsize = 16)\n",
    "plt.ylabel('Pearson Correlation', fontsize = 16)\n",
    "plt.savefig('output/figures/pearsonCorrPerSplit.pdf')\n",
    "plt.savefig('output/figures/pearsonCorrPerSplit.png')"
   ]
  },
  {
   "cell_type": "markdown",
   "metadata": {},
   "source": [
    "### Box Plots\n",
    "#### 2.2.1 Accuracy Plot"
   ]
  },
  {
   "cell_type": "code",
   "execution_count": 18,
   "metadata": {},
   "outputs": [
    {
     "data": {
      "image/png": "[encoded data removed]",
      "text/plain": [
       "<Figure size 576x432 with 1 Axes>"
      ]
     },
     "metadata": {
      "needs_background": "light"
     },
     "output_type": "display_data"
    }
   ],
   "source": [
    "plt.figure(figsize = (8,6))\n",
    "acc.boxplot()\n",
    "locs, labels = plt.xticks()\n",
    "plt.xticks(locs, model_names)\n",
    "plt.xlabel(\"Model\", fontsize = 16)\n",
    "plt.ylabel(\"Accuracy\", fontsize = 16)\n",
    "plt.savefig(\"output/figures/cv_acc.pdf\")"
   ]
  },
  {
   "cell_type": "markdown",
   "metadata": {},
   "source": [
    "### 2.2 F1 Score Plot"
   ]
  },
  {
   "cell_type": "code",
   "execution_count": 19,
   "metadata": {},
   "outputs": [
    {
     "data": {
      "image/png": "[encoded data removed]",
      "text/plain": [
       "<Figure size 576x432 with 1 Axes>"
      ]
     },
     "metadata": {
      "needs_background": "light"
     },
     "output_type": "display_data"
    }
   ],
   "source": [
    "plt.figure(figsize = (8,6))\n",
    "f1.boxplot()\n",
    "locs, labels = plt.xticks()\n",
    "plt.xticks(locs, model_names)\n",
    "plt.xlabel(\"Model\", fontsize = 16)\n",
    "plt.ylabel(\"F1-Score\", fontsize = 16)\n",
    "plt.savefig(\"output/figures/cv_f1.pdf\")"
   ]
  },
  {
   "cell_type": "markdown",
   "metadata": {},
   "source": [
    "### 2.3 MCC Plot"
   ]
  },
  {
   "cell_type": "code",
   "execution_count": 20,
   "metadata": {},
   "outputs": [
    {
     "data": {
      "image/png": "[encoded data removed]",
      "text/plain": [
       "<Figure size 576x432 with 1 Axes>"
      ]
     },
     "metadata": {
      "needs_background": "light"
     },
     "output_type": "display_data"
    }
   ],
   "source": [
    "plt.figure(figsize = (8,6))\n",
    "mcc.boxplot()\n",
    "locs, labels = plt.xticks()\n",
    "plt.xticks(locs, model_names)\n",
    "plt.xlabel(\"Model\", fontsize = 16)\n",
    "plt.ylabel(\"MCC\", fontsize = 16)\n",
    "plt.savefig(\"output/figures/cv_mcc.pdf\")"
   ]
  },
  {
   "cell_type": "markdown",
   "metadata": {},
   "source": [
    "## 3.0 Scalability"
   ]
  },
  {
   "cell_type": "code",
   "execution_count": 21,
   "metadata": {},
   "outputs": [],
   "source": [
    "sdata_dt = pd.read_excel('output/Results_scalabilityAnalysis_10intervals.xlsx', sheet_name = 'DecisionTreeClassifier')\n",
    "sdata_rf = pd.read_excel('output/Results_scalabilityAnalysis_10intervals.xlsx', sheet_name = 'RandomForestClassifier')\n",
    "sdata_knn = pd.read_excel('output/Results_scalabilityAnalysis_10intervals.xlsx', sheet_name = 'KNeighborsClassifier')\n",
    "sdata_erlc = pd.read_excel('output/Results_scalabilityAnalysis_10intervals.xlsx', sheet_name = 'ERLC')"
   ]
  },
  {
   "cell_type": "code",
   "execution_count": 22,
   "metadata": {},
   "outputs": [
    {
     "data": {
      "text/html": [
       "<div>\n",
       "<style scoped>\n",
       "    .dataframe tbody tr th:only-of-type {\n",
       "        vertical-align: middle;\n",
       "    }\n",
       "\n",
       "    .dataframe tbody tr th {\n",
       "        vertical-align: top;\n",
       "    }\n",
       "\n",
       "    .dataframe thead th {\n",
       "        text-align: right;\n",
       "    }\n",
       "</style>\n",
       "<table border=\"1\" class=\"dataframe\">\n",
       "  <thead>\n",
       "    <tr style=\"text-align: right;\">\n",
       "      <th></th>\n",
       "      <th>Unnamed: 0</th>\n",
       "      <th>Feature Percentage</th>\n",
       "      <th>Accuracy</th>\n",
       "      <th>F1-Score</th>\n",
       "      <th>MCC</th>\n",
       "      <th>Training Time</th>\n",
       "      <th>Testing Time</th>\n",
       "    </tr>\n",
       "  </thead>\n",
       "  <tbody>\n",
       "    <tr>\n",
       "      <th>0</th>\n",
       "      <td>0</td>\n",
       "      <td>0.1</td>\n",
       "      <td>0.677596</td>\n",
       "      <td>0.678171</td>\n",
       "      <td>0.666978</td>\n",
       "      <td>1.318656</td>\n",
       "      <td>0.005069</td>\n",
       "    </tr>\n",
       "    <tr>\n",
       "      <th>1</th>\n",
       "      <td>1</td>\n",
       "      <td>0.2</td>\n",
       "      <td>0.910628</td>\n",
       "      <td>0.910556</td>\n",
       "      <td>0.907710</td>\n",
       "      <td>1.579893</td>\n",
       "      <td>0.004343</td>\n",
       "    </tr>\n",
       "    <tr>\n",
       "      <th>2</th>\n",
       "      <td>2</td>\n",
       "      <td>0.3</td>\n",
       "      <td>0.897295</td>\n",
       "      <td>0.897236</td>\n",
       "      <td>0.893921</td>\n",
       "      <td>2.713536</td>\n",
       "      <td>0.006226</td>\n",
       "    </tr>\n",
       "    <tr>\n",
       "      <th>3</th>\n",
       "      <td>3</td>\n",
       "      <td>0.4</td>\n",
       "      <td>0.711661</td>\n",
       "      <td>0.711840</td>\n",
       "      <td>0.702073</td>\n",
       "      <td>4.046561</td>\n",
       "      <td>0.006137</td>\n",
       "    </tr>\n",
       "    <tr>\n",
       "      <th>4</th>\n",
       "      <td>4</td>\n",
       "      <td>0.5</td>\n",
       "      <td>0.738836</td>\n",
       "      <td>0.738850</td>\n",
       "      <td>0.730272</td>\n",
       "      <td>4.868561</td>\n",
       "      <td>0.006698</td>\n",
       "    </tr>\n",
       "    <tr>\n",
       "      <th>5</th>\n",
       "      <td>5</td>\n",
       "      <td>0.6</td>\n",
       "      <td>0.735200</td>\n",
       "      <td>0.735135</td>\n",
       "      <td>0.726571</td>\n",
       "      <td>6.728770</td>\n",
       "      <td>0.007693</td>\n",
       "    </tr>\n",
       "    <tr>\n",
       "      <th>6</th>\n",
       "      <td>6</td>\n",
       "      <td>0.7</td>\n",
       "      <td>0.901952</td>\n",
       "      <td>0.901993</td>\n",
       "      <td>0.898735</td>\n",
       "      <td>6.438371</td>\n",
       "      <td>0.006067</td>\n",
       "    </tr>\n",
       "    <tr>\n",
       "      <th>7</th>\n",
       "      <td>7</td>\n",
       "      <td>0.8</td>\n",
       "      <td>0.902399</td>\n",
       "      <td>0.902285</td>\n",
       "      <td>0.899195</td>\n",
       "      <td>6.681471</td>\n",
       "      <td>0.006816</td>\n",
       "    </tr>\n",
       "    <tr>\n",
       "      <th>8</th>\n",
       "      <td>8</td>\n",
       "      <td>0.9</td>\n",
       "      <td>0.901505</td>\n",
       "      <td>0.901598</td>\n",
       "      <td>0.898291</td>\n",
       "      <td>7.718063</td>\n",
       "      <td>0.005997</td>\n",
       "    </tr>\n",
       "    <tr>\n",
       "      <th>9</th>\n",
       "      <td>9</td>\n",
       "      <td>1.0</td>\n",
       "      <td>0.902335</td>\n",
       "      <td>0.902417</td>\n",
       "      <td>0.899145</td>\n",
       "      <td>8.142084</td>\n",
       "      <td>0.006557</td>\n",
       "    </tr>\n",
       "  </tbody>\n",
       "</table>\n",
       "</div>"
      ],
      "text/plain": [
       "   Unnamed: 0  Feature Percentage  Accuracy  F1-Score       MCC  \\\n",
       "0           0                 0.1  0.677596  0.678171  0.666978   \n",
       "1           1                 0.2  0.910628  0.910556  0.907710   \n",
       "2           2                 0.3  0.897295  0.897236  0.893921   \n",
       "3           3                 0.4  0.711661  0.711840  0.702073   \n",
       "4           4                 0.5  0.738836  0.738850  0.730272   \n",
       "5           5                 0.6  0.735200  0.735135  0.726571   \n",
       "6           6                 0.7  0.901952  0.901993  0.898735   \n",
       "7           7                 0.8  0.902399  0.902285  0.899195   \n",
       "8           8                 0.9  0.901505  0.901598  0.898291   \n",
       "9           9                 1.0  0.902335  0.902417  0.899145   \n",
       "\n",
       "   Training Time  Testing Time  \n",
       "0       1.318656      0.005069  \n",
       "1       1.579893      0.004343  \n",
       "2       2.713536      0.006226  \n",
       "3       4.046561      0.006137  \n",
       "4       4.868561      0.006698  \n",
       "5       6.728770      0.007693  \n",
       "6       6.438371      0.006067  \n",
       "7       6.681471      0.006816  \n",
       "8       7.718063      0.005997  \n",
       "9       8.142084      0.006557  "
      ]
     },
     "execution_count": 22,
     "metadata": {},
     "output_type": "execute_result"
    }
   ],
   "source": [
    "sdata_dt"
   ]
  },
  {
   "cell_type": "code",
   "execution_count": 23,
   "metadata": {},
   "outputs": [],
   "source": [
    "time_dt = sdata_dt['Testing Time']\n",
    "time_rf = sdata_rf['Testing Time']\n",
    "time_knn = sdata_knn['Testing Time']\n",
    "time_erlc = sdata_erlc['Testing Time']\n",
    "feature_percentages = np.arange(0.1,1.1,0.1)"
   ]
  },
  {
   "cell_type": "code",
   "execution_count": 24,
   "metadata": {},
   "outputs": [],
   "source": [
    "time_dt = time_dt / max(time_dt)\n",
    "time_rf = time_rf / max(time_rf)\n",
    "time_knn = time_knn / max(time_knn)\n",
    "time_erlc = time_erlc / max(time_erlc)"
   ]
  },
  {
   "cell_type": "code",
   "execution_count": 25,
   "metadata": {},
   "outputs": [
    {
     "data": {
      "image/png": "[encoded data removed]",
      "text/plain": [
       "<Figure size 576x432 with 1 Axes>"
      ]
     },
     "metadata": {
      "needs_background": "light"
     },
     "output_type": "display_data"
    }
   ],
   "source": [
    "plt.figure(figsize = (8,6))\n",
    "plt.plot(feature_percentages, time_dt, linewidth = 3, label = 'DT')\n",
    "plt.scatter(feature_percentages, time_dt, linewidth = 3, marker = 's')\n",
    "\n",
    "plt.plot(feature_percentages, time_rf, linewidth = 3, label = 'RF')\n",
    "plt.scatter(feature_percentages, time_rf, linewidth = 3, marker = 's')\n",
    "\n",
    "plt.plot(feature_percentages, time_knn, linewidth = 3, label = 'KNN')\n",
    "plt.scatter(feature_percentages, time_knn, linewidth = 3, marker = 's')\n",
    "\n",
    "plt.plot(feature_percentages, time_erlc, linewidth = 3, label = 'ERLC')\n",
    "plt.scatter(feature_percentages, time_erlc, linewidth = 3, marker = 's')\n",
    "\n",
    "plt.legend(prop={'size': 16})\n",
    "plt.xticks(fontsize=14)\n",
    "plt.yticks(fontsize=14)\n",
    "plt.xlabel('Feature %', fontsize = 16)\n",
    "plt.ylabel('Normalized Prediction Time', fontsize = 16)\n",
    "plt.savefig('output/figures/predictionTime_features.pdf')"
   ]
  },
  {
   "cell_type": "code",
   "execution_count": null,
   "metadata": {},
   "outputs": [],
   "source": []
  }
 ],
 "metadata": {
  "kernelspec": {
   "display_name": "multiclass_IDS_env",
   "language": "python",
   "name": "multiclass_ids_env"
  },
  "language_info": {
   "codemirror_mode": {
    "name": "ipython",
    "version": 3
   },
   "file_extension": ".py",
   "mimetype": "text/x-python",
   "name": "python",
   "nbconvert_exporter": "python",
   "pygments_lexer": "ipython3",
   "version": "3.7.6"
  }
 },
 "nbformat": 4,
 "nbformat_minor": 4
}
