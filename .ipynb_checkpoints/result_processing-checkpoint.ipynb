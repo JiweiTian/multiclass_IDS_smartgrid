{
 "cells": [
  {
   "cell_type": "code",
   "execution_count": 1,
   "metadata": {},
   "outputs": [],
   "source": [
    "import pandas as pd\n",
    "import seaborn as sns\n",
    "import matplotlib.pyplot as plt\n",
    "import numpy as np\n",
    "import os"
   ]
  },
  {
   "cell_type": "code",
   "execution_count": 2,
   "metadata": {},
   "outputs": [],
   "source": [
    "data_dt = pd.read_excel('output/Results_10CV.xlsx', sheet_name = 'DecisionTreeClassifier')\n",
    "data_rf = pd.read_excel('output/Results_10CV.xlsx', sheet_name = 'RandomForestClassifier')\n",
    "data_knn = pd.read_excel('output/Results_10CV.xlsx', sheet_name = 'KNeighborsClassifier')\n",
    "data_erlc = pd.read_excel('output/Results_10CV.xlsx', sheet_name = 'ERLC')"
   ]
  },
  {
   "cell_type": "code",
   "execution_count": 3,
   "metadata": {},
   "outputs": [
    {
     "data": {
      "text/html": [
       "<div>\n",
       "<style scoped>\n",
       "    .dataframe tbody tr th:only-of-type {\n",
       "        vertical-align: middle;\n",
       "    }\n",
       "\n",
       "    .dataframe tbody tr th {\n",
       "        vertical-align: top;\n",
       "    }\n",
       "\n",
       "    .dataframe thead th {\n",
       "        text-align: right;\n",
       "    }\n",
       "</style>\n",
       "<table border=\"1\" class=\"dataframe\">\n",
       "  <thead>\n",
       "    <tr style=\"text-align: right;\">\n",
       "      <th></th>\n",
       "      <th>Unnamed: 0</th>\n",
       "      <th>Accuracy</th>\n",
       "      <th>F1-Score</th>\n",
       "      <th>MCC</th>\n",
       "      <th>Training Time</th>\n",
       "      <th>Testing Time</th>\n",
       "    </tr>\n",
       "  </thead>\n",
       "  <tbody>\n",
       "    <tr>\n",
       "      <th>0</th>\n",
       "      <td>0</td>\n",
       "      <td>0.913498</td>\n",
       "      <td>0.913425</td>\n",
       "      <td>0.910660</td>\n",
       "      <td>16.258458</td>\n",
       "      <td>0.006604</td>\n",
       "    </tr>\n",
       "    <tr>\n",
       "      <th>1</th>\n",
       "      <td>1</td>\n",
       "      <td>0.914264</td>\n",
       "      <td>0.914373</td>\n",
       "      <td>0.911387</td>\n",
       "      <td>19.327668</td>\n",
       "      <td>0.003139</td>\n",
       "    </tr>\n",
       "    <tr>\n",
       "      <th>2</th>\n",
       "      <td>2</td>\n",
       "      <td>0.905716</td>\n",
       "      <td>0.905824</td>\n",
       "      <td>0.902581</td>\n",
       "      <td>9.742313</td>\n",
       "      <td>0.002855</td>\n",
       "    </tr>\n",
       "    <tr>\n",
       "      <th>3</th>\n",
       "      <td>3</td>\n",
       "      <td>0.911712</td>\n",
       "      <td>0.911722</td>\n",
       "      <td>0.908823</td>\n",
       "      <td>9.502948</td>\n",
       "      <td>0.002746</td>\n",
       "    </tr>\n",
       "    <tr>\n",
       "      <th>4</th>\n",
       "      <td>4</td>\n",
       "      <td>0.911202</td>\n",
       "      <td>0.911306</td>\n",
       "      <td>0.908303</td>\n",
       "      <td>9.647490</td>\n",
       "      <td>0.003042</td>\n",
       "    </tr>\n",
       "  </tbody>\n",
       "</table>\n",
       "</div>"
      ],
      "text/plain": [
       "   Unnamed: 0  Accuracy  F1-Score       MCC  Training Time  Testing Time\n",
       "0           0  0.913498  0.913425  0.910660      16.258458      0.006604\n",
       "1           1  0.914264  0.914373  0.911387      19.327668      0.003139\n",
       "2           2  0.905716  0.905824  0.902581       9.742313      0.002855\n",
       "3           3  0.911712  0.911722  0.908823       9.502948      0.002746\n",
       "4           4  0.911202  0.911306  0.908303       9.647490      0.003042"
      ]
     },
     "execution_count": 3,
     "metadata": {},
     "output_type": "execute_result"
    }
   ],
   "source": [
    "data_dt.head()"
   ]
  },
  {
   "cell_type": "code",
   "execution_count": 4,
   "metadata": {},
   "outputs": [],
   "source": [
    "def get_metric(data_array, metric='Accuracy'):\n",
    "    models = ['DecisionTreeClassifier', 'RandomForestClassifier', 'KNeighborsClassifier', 'ERLC' ]\n",
    "    df = pd.DataFrame()\n",
    "    for i in range(len(data_array)):\n",
    "        temp = data_array[i]\n",
    "        temp2 = temp[metric]\n",
    "        df[models[i]] = temp2\n",
    "        \n",
    "    return df"
   ]
  },
  {
   "cell_type": "code",
   "execution_count": 5,
   "metadata": {},
   "outputs": [],
   "source": [
    "model_names = ['DT', 'RF', 'KNN', 'ERLC']"
   ]
  },
  {
   "cell_type": "code",
   "execution_count": 6,
   "metadata": {},
   "outputs": [],
   "source": [
    "acc = get_metric([data_dt, data_rf, data_knn, data_erlc])\n",
    "f1 = get_metric([data_dt, data_rf, data_knn, data_erlc], metric='F1-Score')\n",
    "mcc = get_metric([data_dt, data_rf, data_knn, data_erlc], metric='MCC')"
   ]
  },
  {
   "cell_type": "markdown",
   "metadata": {},
   "source": [
    "## 1.0 Table"
   ]
  },
  {
   "cell_type": "code",
   "execution_count": 7,
   "metadata": {},
   "outputs": [
    {
     "data": {
      "text/html": [
       "<div>\n",
       "<style scoped>\n",
       "    .dataframe tbody tr th:only-of-type {\n",
       "        vertical-align: middle;\n",
       "    }\n",
       "\n",
       "    .dataframe tbody tr th {\n",
       "        vertical-align: top;\n",
       "    }\n",
       "\n",
       "    .dataframe thead th {\n",
       "        text-align: right;\n",
       "    }\n",
       "</style>\n",
       "<table border=\"1\" class=\"dataframe\">\n",
       "  <thead>\n",
       "    <tr style=\"text-align: right;\">\n",
       "      <th></th>\n",
       "      <th>DecisionTreeClassifier</th>\n",
       "      <th>RandomForestClassifier</th>\n",
       "      <th>KNeighborsClassifier</th>\n",
       "      <th>ERLC</th>\n",
       "    </tr>\n",
       "  </thead>\n",
       "  <tbody>\n",
       "    <tr>\n",
       "      <th>0</th>\n",
       "      <td>0.913498</td>\n",
       "      <td>0.928936</td>\n",
       "      <td>0.758612</td>\n",
       "      <td>0.953304</td>\n",
       "    </tr>\n",
       "    <tr>\n",
       "      <th>1</th>\n",
       "      <td>0.914264</td>\n",
       "      <td>0.918474</td>\n",
       "      <td>0.746619</td>\n",
       "      <td>0.946925</td>\n",
       "    </tr>\n",
       "    <tr>\n",
       "      <th>2</th>\n",
       "      <td>0.905716</td>\n",
       "      <td>0.920643</td>\n",
       "      <td>0.752615</td>\n",
       "      <td>0.951135</td>\n",
       "    </tr>\n",
       "    <tr>\n",
       "      <th>3</th>\n",
       "      <td>0.911712</td>\n",
       "      <td>0.926257</td>\n",
       "      <td>0.753636</td>\n",
       "      <td>0.950880</td>\n",
       "    </tr>\n",
       "    <tr>\n",
       "      <th>4</th>\n",
       "      <td>0.911202</td>\n",
       "      <td>0.926257</td>\n",
       "      <td>0.757846</td>\n",
       "      <td>0.954070</td>\n",
       "    </tr>\n",
       "  </tbody>\n",
       "</table>\n",
       "</div>"
      ],
      "text/plain": [
       "   DecisionTreeClassifier  RandomForestClassifier  KNeighborsClassifier  \\\n",
       "0                0.913498                0.928936              0.758612   \n",
       "1                0.914264                0.918474              0.746619   \n",
       "2                0.905716                0.920643              0.752615   \n",
       "3                0.911712                0.926257              0.753636   \n",
       "4                0.911202                0.926257              0.757846   \n",
       "\n",
       "       ERLC  \n",
       "0  0.953304  \n",
       "1  0.946925  \n",
       "2  0.951135  \n",
       "3  0.950880  \n",
       "4  0.954070  "
      ]
     },
     "execution_count": 7,
     "metadata": {},
     "output_type": "execute_result"
    }
   ],
   "source": [
    "acc.head()"
   ]
  },
  {
   "cell_type": "code",
   "execution_count": 8,
   "metadata": {},
   "outputs": [],
   "source": [
    "def getStats(df):\n",
    "    '''\n",
    "    Get the mean and standard deviation of columns of a dataframe\n",
    "    '''\n",
    "    means = []\n",
    "    stds = []\n",
    "    for c in df.columns:\n",
    "        means.append(df[c].mean())\n",
    "        stds.append(df[c].std())\n",
    "\n",
    "    return means,stds"
   ]
  },
  {
   "cell_type": "code",
   "execution_count": 9,
   "metadata": {},
   "outputs": [],
   "source": [
    "acc_means, acc_stds = getStats(acc)\n",
    "f1_means, f1_stds = getStats(f1)\n",
    "mcc_means, mcc_stds = getStats(mcc)"
   ]
  },
  {
   "cell_type": "markdown",
   "metadata": {},
   "source": [
    "We will combine means and standard deviations with \"plus-minus sign\""
   ]
  },
  {
   "cell_type": "code",
   "execution_count": 18,
   "metadata": {},
   "outputs": [
    {
     "name": "stdout",
     "output_type": "stream",
     "text": [
      "0.91064 $\\pm$ 0.00255\n",
      "0.91064 $\\pm$ 0.00254\n",
      "0.92384 $\\pm$ 0.00357\n",
      "0.92371 $\\pm$ 0.00357\n",
      "0.75312 $\\pm$ 0.00544\n",
      "0.7528 $\\pm$ 0.00559\n",
      "0.95005 $\\pm$ 0.00236\n",
      "0.95001 $\\pm$ 0.00235\n"
     ]
    }
   ],
   "source": [
    "decimals = 5\n",
    "plusMinus = \"$\\pm$\"\n",
    "acc_final = []\n",
    "f1_final = []\n",
    "mcc_final = []\n",
    "for i in range(len(model_names)):\n",
    "    acc_str = '{} {} {}'.format( round(acc_means[i], decimals) ,plusMinus, round(acc_stds[i],decimals) )\n",
    "    acc_final.apend(acc_str)\n",
    "    f1_str = '{} {} {}'.format( round(f1_means[i], decimals) , plusMinus, round(f1_stds[i],decimals) )\n",
    "    f1_final.apend(f1_str)\n",
    "    mcc_str = '{} {} {}'.format( round(mcc_means[i], decimals), plusMinus, round(mcc_stds[i],decimals) )\n",
    "    mcc_final.apend(mcc_str)"
   ]
  },
  {
   "cell_type": "markdown",
   "metadata": {},
   "source": [
    "Now we will build the results as a table seperated by \"&\" for use in latex"
   ]
  },
  {
   "cell_type": "code",
   "execution_count": 11,
   "metadata": {},
   "outputs": [],
   "source": [
    "results_df = pd.DataFrame({\n",
    "    \"Model\": model_names,\n",
    "    \"Accuracy\": acc_final,\n",
    "    \"F1-Score\": f1_final,\n",
    "    \"MCC\": mcc_final,\n",
    "})\n",
    "results_df.to_csv('output/resultsTable1.txt', sep = '&', index=False)"
   ]
  },
  {
   "cell_type": "code",
   "execution_count": 12,
   "metadata": {},
   "outputs": [],
   "source": [
    "with open('output/resultsTable1.txt', 'r') as istr:\n",
    "    with open('output/resultsTable.txt', 'w') as ostr:\n",
    "        for line in istr:\n",
    "            line = line.rstrip('\\n') + '\\\\\\\\'\n",
    "            print(line, file=ostr)\n",
    "            \n",
    "# Remove old file\n",
    "os.remove('output/resultsTable1.txt') "
   ]
  },
  {
   "cell_type": "markdown",
   "metadata": {},
   "source": [
    "## 2.0 Plots"
   ]
  },
  {
   "cell_type": "markdown",
   "metadata": {},
   "source": [
    "### 2.1 Accuracy Plot"
   ]
  },
  {
   "cell_type": "code",
   "execution_count": 13,
   "metadata": {},
   "outputs": [
    {
     "data": {
      "image/png": "[encoded data removed]",
      "text/plain": [
       "<Figure size 576x432 with 1 Axes>"
      ]
     },
     "metadata": {
      "needs_background": "light"
     },
     "output_type": "display_data"
    }
   ],
   "source": [
    "plt.figure(figsize = (8,6))\n",
    "acc.boxplot()\n",
    "locs, labels = plt.xticks()\n",
    "plt.xticks(locs, model_names)\n",
    "plt.xlabel(\"Model\", fontsize = 16)\n",
    "plt.ylabel(\"Accuracy\", fontsize = 16)\n",
    "plt.savefig(\"output/cv_acc.pdf\")"
   ]
  },
  {
   "cell_type": "markdown",
   "metadata": {},
   "source": [
    "### 2.2 F1 Score Plot"
   ]
  },
  {
   "cell_type": "code",
   "execution_count": 14,
   "metadata": {},
   "outputs": [
    {
     "data": {
      "image/png": "[encoded data removed]",
      "text/plain": [
       "<Figure size 576x432 with 1 Axes>"
      ]
     },
     "metadata": {
      "needs_background": "light"
     },
     "output_type": "display_data"
    }
   ],
   "source": [
    "plt.figure(figsize = (8,6))\n",
    "f1.boxplot()\n",
    "locs, labels = plt.xticks()\n",
    "plt.xticks(locs, model_names)\n",
    "plt.xlabel(\"Model\", fontsize = 16)\n",
    "plt.ylabel(\"F1-Score\", fontsize = 16)\n",
    "plt.savefig(\"output/cv_f1.pdf\")"
   ]
  },
  {
   "cell_type": "markdown",
   "metadata": {},
   "source": [
    "### 2.3 MCC Plot"
   ]
  },
  {
   "cell_type": "code",
   "execution_count": 15,
   "metadata": {},
   "outputs": [
    {
     "data": {
      "image/png": "[encoded data removed]",
      "text/plain": [
       "<Figure size 576x432 with 1 Axes>"
      ]
     },
     "metadata": {
      "needs_background": "light"
     },
     "output_type": "display_data"
    }
   ],
   "source": [
    "plt.figure(figsize = (8,6))\n",
    "mcc.boxplot()\n",
    "locs, labels = plt.xticks()\n",
    "plt.xticks(locs, model_names)\n",
    "plt.xlabel(\"Model\", fontsize = 16)\n",
    "plt.ylabel(\"MCC\", fontsize = 16)\n",
    "plt.savefig(\"output/cv_mcc.pdf\")"
   ]
  }
 ],
 "metadata": {
  "kernelspec": {
   "display_name": "Python 3",
   "language": "python",
   "name": "python3"
  },
  "language_info": {
   "codemirror_mode": {
    "name": "ipython",
    "version": 3
   },
   "file_extension": ".py",
   "mimetype": "text/x-python",
   "name": "python",
   "nbconvert_exporter": "python",
   "pygments_lexer": "ipython3",
   "version": "3.7.6"
  }
 },
 "nbformat": 4,
 "nbformat_minor": 4
}
