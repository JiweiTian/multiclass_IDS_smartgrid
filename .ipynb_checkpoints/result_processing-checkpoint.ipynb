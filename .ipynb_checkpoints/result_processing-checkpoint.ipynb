{
 "cells": [
  {
   "cell_type": "code",
   "execution_count": 24,
   "metadata": {},
   "outputs": [],
   "source": [
    "import pandas as pd\n",
    "import seaborn as sns\n",
    "import matplotlib.pyplot as plt\n",
    "import numpy as np"
   ]
  },
  {
   "cell_type": "code",
   "execution_count": 4,
   "metadata": {},
   "outputs": [],
   "source": [
    "data_dt = pd.read_excel('output/Results_10CV.xlsx', sheet_name = 'DecisionTreeClassifier')\n",
    "data_rf = pd.read_excel('output/Results_10CV.xlsx', sheet_name = 'RandomForestClassifier')\n",
    "data_knn = pd.read_excel('output/Results_10CV.xlsx', sheet_name = 'KNeighborsClassifier')\n",
    "data_erlc = pd.read_excel('output/Results_10CV.xlsx', sheet_name = 'ERLC')"
   ]
  },
  {
   "cell_type": "code",
   "execution_count": 8,
   "metadata": {},
   "outputs": [
    {
     "data": {
      "text/html": [
       "<div>\n",
       "<style scoped>\n",
       "    .dataframe tbody tr th:only-of-type {\n",
       "        vertical-align: middle;\n",
       "    }\n",
       "\n",
       "    .dataframe tbody tr th {\n",
       "        vertical-align: top;\n",
       "    }\n",
       "\n",
       "    .dataframe thead th {\n",
       "        text-align: right;\n",
       "    }\n",
       "</style>\n",
       "<table border=\"1\" class=\"dataframe\">\n",
       "  <thead>\n",
       "    <tr style=\"text-align: right;\">\n",
       "      <th></th>\n",
       "      <th>Unnamed: 0</th>\n",
       "      <th>Accuracy</th>\n",
       "      <th>F1-Score</th>\n",
       "      <th>MCC</th>\n",
       "      <th>Training Time</th>\n",
       "      <th>Testing Time</th>\n",
       "    </tr>\n",
       "  </thead>\n",
       "  <tbody>\n",
       "    <tr>\n",
       "      <th>0</th>\n",
       "      <td>0</td>\n",
       "      <td>0.913498</td>\n",
       "      <td>0.913425</td>\n",
       "      <td>0.910660</td>\n",
       "      <td>16.258458</td>\n",
       "      <td>0.006604</td>\n",
       "    </tr>\n",
       "    <tr>\n",
       "      <th>1</th>\n",
       "      <td>1</td>\n",
       "      <td>0.914264</td>\n",
       "      <td>0.914373</td>\n",
       "      <td>0.911387</td>\n",
       "      <td>19.327668</td>\n",
       "      <td>0.003139</td>\n",
       "    </tr>\n",
       "    <tr>\n",
       "      <th>2</th>\n",
       "      <td>2</td>\n",
       "      <td>0.905716</td>\n",
       "      <td>0.905824</td>\n",
       "      <td>0.902581</td>\n",
       "      <td>9.742313</td>\n",
       "      <td>0.002855</td>\n",
       "    </tr>\n",
       "    <tr>\n",
       "      <th>3</th>\n",
       "      <td>3</td>\n",
       "      <td>0.911712</td>\n",
       "      <td>0.911722</td>\n",
       "      <td>0.908823</td>\n",
       "      <td>9.502948</td>\n",
       "      <td>0.002746</td>\n",
       "    </tr>\n",
       "    <tr>\n",
       "      <th>4</th>\n",
       "      <td>4</td>\n",
       "      <td>0.911202</td>\n",
       "      <td>0.911306</td>\n",
       "      <td>0.908303</td>\n",
       "      <td>9.647490</td>\n",
       "      <td>0.003042</td>\n",
       "    </tr>\n",
       "  </tbody>\n",
       "</table>\n",
       "</div>"
      ],
      "text/plain": [
       "   Unnamed: 0  Accuracy  F1-Score       MCC  Training Time  Testing Time\n",
       "0           0  0.913498  0.913425  0.910660      16.258458      0.006604\n",
       "1           1  0.914264  0.914373  0.911387      19.327668      0.003139\n",
       "2           2  0.905716  0.905824  0.902581       9.742313      0.002855\n",
       "3           3  0.911712  0.911722  0.908823       9.502948      0.002746\n",
       "4           4  0.911202  0.911306  0.908303       9.647490      0.003042"
      ]
     },
     "execution_count": 8,
     "metadata": {},
     "output_type": "execute_result"
    }
   ],
   "source": [
    "data_dt.head()"
   ]
  },
  {
   "cell_type": "code",
   "execution_count": 35,
   "metadata": {},
   "outputs": [],
   "source": [
    "def get_metric(data_array, metric='Accuracy'):\n",
    "    models = ['DecisionTreeClassifier', 'RandomForestClassifier', 'KNeighborsClassifier', 'ERLC' ]\n",
    "    df = pd.DataFrame()\n",
    "    for i in range(len(data_array)):\n",
    "        print(i)\n",
    "        temp = data_array[i]\n",
    "        temp2 = temp[metric]\n",
    "        df[models[i]] = temp2\n",
    "        \n",
    "    return df "
   ]
  },
  {
   "cell_type": "code",
   "execution_count": 25,
   "metadata": {},
   "outputs": [
    {
     "data": {
      "text/plain": [
       "{'whiskers': [<matplotlib.lines.Line2D at 0x7f12388f8400>,\n",
       "  <matplotlib.lines.Line2D at 0x7f12388f8760>,\n",
       "  <matplotlib.lines.Line2D at 0x7f1238883a90>,\n",
       "  <matplotlib.lines.Line2D at 0x7f123888f160>],\n",
       " 'caps': [<matplotlib.lines.Line2D at 0x7f12388f8a90>,\n",
       "  <matplotlib.lines.Line2D at 0x7f1238883130>,\n",
       "  <matplotlib.lines.Line2D at 0x7f123888f490>,\n",
       "  <matplotlib.lines.Line2D at 0x7f123888f7c0>],\n",
       " 'boxes': [<matplotlib.lines.Line2D at 0x7f12388f83d0>,\n",
       "  <matplotlib.lines.Line2D at 0x7f1238883ac0>],\n",
       " 'medians': [<matplotlib.lines.Line2D at 0x7f1238883460>,\n",
       "  <matplotlib.lines.Line2D at 0x7f123888faf0>],\n",
       " 'fliers': [<matplotlib.lines.Line2D at 0x7f12388f8370>,\n",
       "  <matplotlib.lines.Line2D at 0x7f1238883a00>],\n",
       " 'means': []}"
      ]
     },
     "execution_count": 25,
     "metadata": {},
     "output_type": "execute_result"
    },
    {
     "data": {
      "image/png": "[encoded data removed]",
      "text/plain": [
       "<Figure size 432x288 with 1 Axes>"
      ]
     },
     "metadata": {
      "needs_background": "light"
     },
     "output_type": "display_data"
    }
   ],
   "source": [
    "df1 = data_dt[['Accuracy','MCC']]\n",
    "df1 = np.asarray(df1)\n",
    "plt.boxplot(df1)"
   ]
  },
  {
   "cell_type": "code",
   "execution_count": 29,
   "metadata": {},
   "outputs": [
    {
     "data": {
      "text/plain": [
       "<matplotlib.axes._subplots.AxesSubplot at 0x7f12390b6d00>"
      ]
     },
     "execution_count": 29,
     "metadata": {},
     "output_type": "execute_result"
    },
    {
     "data": {
      "image/png": "[encoded data removed]",
      "text/plain": [
       "<Figure size 432x288 with 1 Axes>"
      ]
     },
     "metadata": {
      "needs_background": "light"
     },
     "output_type": "display_data"
    }
   ],
   "source": [
    "data_dt[['Accuracy','F1-Score','MCC']].plot.box()"
   ]
  },
  {
   "cell_type": "code",
   "execution_count": 38,
   "metadata": {},
   "outputs": [
    {
     "name": "stdout",
     "output_type": "stream",
     "text": [
      "0\n",
      "1\n",
      "2\n",
      "3\n"
     ]
    }
   ],
   "source": [
    "acc = get_metric([data_dt, data_rf, data_knn, data_erlc])"
   ]
  },
  {
   "cell_type": "code",
   "execution_count": 43,
   "metadata": {},
   "outputs": [
    {
     "data": {
      "text/plain": [
       "<matplotlib.axes._subplots.AxesSubplot at 0x7f12385d3670>"
      ]
     },
     "execution_count": 43,
     "metadata": {},
     "output_type": "execute_result"
    },
    {
     "data": {
      "image/png": "[encoded data removed]",
      "text/plain": [
       "<Figure size 720x720 with 1 Axes>"
      ]
     },
     "metadata": {
      "needs_background": "light"
     },
     "output_type": "display_data"
    }
   ],
   "source": [
    "plt.figure(figsize = (10,10))\n",
    "acc.boxplot()"
   ]
  },
  {
   "cell_type": "code",
   "execution_count": null,
   "metadata": {},
   "outputs": [],
   "source": []
  }
 ],
 "metadata": {
  "kernelspec": {
   "display_name": "multiclass_IDS_env",
   "language": "python",
   "name": "multiclass_ids_env"
  },
  "language_info": {
   "codemirror_mode": {
    "name": "ipython",
    "version": 3
   },
   "file_extension": ".py",
   "mimetype": "text/x-python",
   "name": "python",
   "nbconvert_exporter": "python",
   "pygments_lexer": "ipython3",
   "version": "3.8.2"
  }
 },
 "nbformat": 4,
 "nbformat_minor": 4
}
