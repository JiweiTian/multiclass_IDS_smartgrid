{
 "cells": [
  {
   "cell_type": "code",
   "execution_count": 1,
   "metadata": {},
   "outputs": [],
   "source": [
    "import pandas as pd\n",
    "from scipy.io import arff\n",
    "import numpy as np\n",
    "from scipy import stats\n",
    "import tensorflow as tf\n",
    "\n",
    "from tensorflow.keras import Sequential, Model\n",
    "from tensorflow.keras.layers import Dense, Input, Dropout\n",
    "from sklearn.model_selection import train_test_split\n",
    "from sklearn import preprocessing\n",
    "from sklearn.metrics import f1_score, accuracy_score, matthews_corrcoef\n",
    "\n",
    "from sklearn.ensemble import RandomForestClassifier\n",
    "from sklearn.multiclass import OneVsOneClassifier\n",
    "from sklearn.tree import DecisionTreeClassifier\n",
    "from sklearn.neighbors import KNeighborsClassifier\n",
    "from sklearn.model_selection import KFold\n",
    "import time\n",
    "from tensorflow.keras.utils import to_categorical\n",
    "\n",
    "import erlc as e\n",
    "import dataPipeline as dp\n",
    "import matplotlib.pyplot as plt\n",
    "import seaborn as sns"
   ]
  },
  {
   "cell_type": "code",
   "execution_count": 2,
   "metadata": {},
   "outputs": [],
   "source": [
    "dataPipeline = dp.DataPipeline()\n",
    "erlc = e.ERLC()"
   ]
  },
  {
   "cell_type": "code",
   "execution_count": 3,
   "metadata": {},
   "outputs": [
    {
     "name": "stdout",
     "output_type": "stream",
     "text": [
      "Loading dataset #1\n",
      "Loading dataset #2\n",
      "Loading dataset #3\n",
      "Loading dataset #4\n",
      "Loading dataset #5\n",
      "Loading dataset #6\n",
      "Loading dataset #7\n",
      "Loading dataset #8\n",
      "Loading dataset #9\n",
      "Loading dataset #10\n",
      "Loading dataset #11\n",
      "Loading dataset #12\n",
      "Loading dataset #13\n",
      "Loading dataset #14\n",
      "Loading dataset #15\n",
      "Finished Loading. Final Size = (78377, 129)\n"
     ]
    },
    {
     "data": {
      "text/html": [
       "<div>\n",
       "<style scoped>\n",
       "    .dataframe tbody tr th:only-of-type {\n",
       "        vertical-align: middle;\n",
       "    }\n",
       "\n",
       "    .dataframe tbody tr th {\n",
       "        vertical-align: top;\n",
       "    }\n",
       "\n",
       "    .dataframe thead th {\n",
       "        text-align: right;\n",
       "    }\n",
       "</style>\n",
       "<table border=\"1\" class=\"dataframe\">\n",
       "  <thead>\n",
       "    <tr style=\"text-align: right;\">\n",
       "      <th></th>\n",
       "      <th>R1-PA1:VH</th>\n",
       "      <th>R1-PM1:V</th>\n",
       "      <th>R1-PA2:VH</th>\n",
       "      <th>R1-PM2:V</th>\n",
       "      <th>R1-PA3:VH</th>\n",
       "      <th>R1-PM3:V</th>\n",
       "      <th>R1-PA4:IH</th>\n",
       "      <th>R1-PM4:I</th>\n",
       "      <th>R1-PA5:IH</th>\n",
       "      <th>R1-PM5:I</th>\n",
       "      <th>...</th>\n",
       "      <th>control_panel_log4</th>\n",
       "      <th>relay1_log</th>\n",
       "      <th>relay2_log</th>\n",
       "      <th>relay3_log</th>\n",
       "      <th>relay4_log</th>\n",
       "      <th>snort_log1</th>\n",
       "      <th>snort_log2</th>\n",
       "      <th>snort_log3</th>\n",
       "      <th>snort_log4</th>\n",
       "      <th>marker</th>\n",
       "    </tr>\n",
       "  </thead>\n",
       "  <tbody>\n",
       "    <tr>\n",
       "      <th>0</th>\n",
       "      <td>70.399324</td>\n",
       "      <td>127673.0908</td>\n",
       "      <td>-49.572308</td>\n",
       "      <td>127648.0176</td>\n",
       "      <td>-169.578319</td>\n",
       "      <td>127723.2374</td>\n",
       "      <td>65.689611</td>\n",
       "      <td>605.91099</td>\n",
       "      <td>-57.003571</td>\n",
       "      <td>626.78553</td>\n",
       "      <td>...</td>\n",
       "      <td>0.0</td>\n",
       "      <td>0.0</td>\n",
       "      <td>0.0</td>\n",
       "      <td>0.0</td>\n",
       "      <td>0.0</td>\n",
       "      <td>0.0</td>\n",
       "      <td>0.0</td>\n",
       "      <td>0.0</td>\n",
       "      <td>0.0</td>\n",
       "      <td>b'41'</td>\n",
       "    </tr>\n",
       "    <tr>\n",
       "      <th>1</th>\n",
       "      <td>73.688102</td>\n",
       "      <td>130280.7109</td>\n",
       "      <td>-46.300719</td>\n",
       "      <td>130255.6377</td>\n",
       "      <td>-166.278082</td>\n",
       "      <td>130355.9307</td>\n",
       "      <td>71.831719</td>\n",
       "      <td>483.59351</td>\n",
       "      <td>-50.947407</td>\n",
       "      <td>500.98896</td>\n",
       "      <td>...</td>\n",
       "      <td>0.0</td>\n",
       "      <td>0.0</td>\n",
       "      <td>0.0</td>\n",
       "      <td>0.0</td>\n",
       "      <td>0.0</td>\n",
       "      <td>0.0</td>\n",
       "      <td>0.0</td>\n",
       "      <td>0.0</td>\n",
       "      <td>0.0</td>\n",
       "      <td>b'41'</td>\n",
       "    </tr>\n",
       "    <tr>\n",
       "      <th>2</th>\n",
       "      <td>73.733939</td>\n",
       "      <td>130305.7842</td>\n",
       "      <td>-46.254883</td>\n",
       "      <td>130280.7109</td>\n",
       "      <td>-166.232245</td>\n",
       "      <td>130381.0040</td>\n",
       "      <td>71.808800</td>\n",
       "      <td>483.59351</td>\n",
       "      <td>-50.913030</td>\n",
       "      <td>500.98896</td>\n",
       "      <td>...</td>\n",
       "      <td>0.0</td>\n",
       "      <td>0.0</td>\n",
       "      <td>0.0</td>\n",
       "      <td>0.0</td>\n",
       "      <td>0.0</td>\n",
       "      <td>0.0</td>\n",
       "      <td>0.0</td>\n",
       "      <td>0.0</td>\n",
       "      <td>0.0</td>\n",
       "      <td>b'41'</td>\n",
       "    </tr>\n",
       "    <tr>\n",
       "      <th>3</th>\n",
       "      <td>74.083443</td>\n",
       "      <td>130581.5902</td>\n",
       "      <td>-45.899649</td>\n",
       "      <td>130556.5169</td>\n",
       "      <td>-165.882741</td>\n",
       "      <td>130656.8100</td>\n",
       "      <td>72.152575</td>\n",
       "      <td>482.86107</td>\n",
       "      <td>-50.437475</td>\n",
       "      <td>499.15786</td>\n",
       "      <td>...</td>\n",
       "      <td>0.0</td>\n",
       "      <td>0.0</td>\n",
       "      <td>0.0</td>\n",
       "      <td>0.0</td>\n",
       "      <td>0.0</td>\n",
       "      <td>0.0</td>\n",
       "      <td>0.0</td>\n",
       "      <td>0.0</td>\n",
       "      <td>0.0</td>\n",
       "      <td>b'41'</td>\n",
       "    </tr>\n",
       "    <tr>\n",
       "      <th>4</th>\n",
       "      <td>74.553268</td>\n",
       "      <td>131083.0556</td>\n",
       "      <td>-45.424094</td>\n",
       "      <td>131057.9823</td>\n",
       "      <td>-165.424375</td>\n",
       "      <td>131158.2754</td>\n",
       "      <td>72.118198</td>\n",
       "      <td>484.50906</td>\n",
       "      <td>-50.013486</td>\n",
       "      <td>497.69298</td>\n",
       "      <td>...</td>\n",
       "      <td>0.0</td>\n",
       "      <td>0.0</td>\n",
       "      <td>0.0</td>\n",
       "      <td>0.0</td>\n",
       "      <td>0.0</td>\n",
       "      <td>0.0</td>\n",
       "      <td>0.0</td>\n",
       "      <td>0.0</td>\n",
       "      <td>0.0</td>\n",
       "      <td>b'41'</td>\n",
       "    </tr>\n",
       "  </tbody>\n",
       "</table>\n",
       "<p>5 rows × 129 columns</p>\n",
       "</div>"
      ],
      "text/plain": [
       "   R1-PA1:VH     R1-PM1:V  R1-PA2:VH     R1-PM2:V   R1-PA3:VH     R1-PM3:V  \\\n",
       "0  70.399324  127673.0908 -49.572308  127648.0176 -169.578319  127723.2374   \n",
       "1  73.688102  130280.7109 -46.300719  130255.6377 -166.278082  130355.9307   \n",
       "2  73.733939  130305.7842 -46.254883  130280.7109 -166.232245  130381.0040   \n",
       "3  74.083443  130581.5902 -45.899649  130556.5169 -165.882741  130656.8100   \n",
       "4  74.553268  131083.0556 -45.424094  131057.9823 -165.424375  131158.2754   \n",
       "\n",
       "   R1-PA4:IH   R1-PM4:I  R1-PA5:IH   R1-PM5:I  ...  control_panel_log4  \\\n",
       "0  65.689611  605.91099 -57.003571  626.78553  ...                 0.0   \n",
       "1  71.831719  483.59351 -50.947407  500.98896  ...                 0.0   \n",
       "2  71.808800  483.59351 -50.913030  500.98896  ...                 0.0   \n",
       "3  72.152575  482.86107 -50.437475  499.15786  ...                 0.0   \n",
       "4  72.118198  484.50906 -50.013486  497.69298  ...                 0.0   \n",
       "\n",
       "   relay1_log  relay2_log  relay3_log  relay4_log  snort_log1  snort_log2  \\\n",
       "0         0.0         0.0         0.0         0.0         0.0         0.0   \n",
       "1         0.0         0.0         0.0         0.0         0.0         0.0   \n",
       "2         0.0         0.0         0.0         0.0         0.0         0.0   \n",
       "3         0.0         0.0         0.0         0.0         0.0         0.0   \n",
       "4         0.0         0.0         0.0         0.0         0.0         0.0   \n",
       "\n",
       "   snort_log3  snort_log4  marker  \n",
       "0         0.0         0.0   b'41'  \n",
       "1         0.0         0.0   b'41'  \n",
       "2         0.0         0.0   b'41'  \n",
       "3         0.0         0.0   b'41'  \n",
       "4         0.0         0.0   b'41'  \n",
       "\n",
       "[5 rows x 129 columns]"
      ]
     },
     "execution_count": 3,
     "metadata": {},
     "output_type": "execute_result"
    }
   ],
   "source": [
    "data = dataPipeline.loadData(num_sets = 15)\n",
    "data.head()"
   ]
  },
  {
   "cell_type": "code",
   "execution_count": 4,
   "metadata": {},
   "outputs": [],
   "source": [
    "X, y = dataPipeline.dataProc(data)\n",
    "X_train, X_test, y_train, y_test = train_test_split(X, y, test_size=0.2)"
   ]
  },
  {
   "cell_type": "code",
   "execution_count": 5,
   "metadata": {},
   "outputs": [],
   "source": [
    "erlc.getLocalizationStats(X_train, y_train)"
   ]
  },
  {
   "cell_type": "code",
   "execution_count": 6,
   "metadata": {},
   "outputs": [
    {
     "name": "stdout",
     "output_type": "stream",
     "text": [
      "Iteration i = 1\n",
      "p_diff_temp shape = (117, 323)\n",
      "p_diff_avg shape = (117,)\n",
      "Iteration i = 2\n",
      "p_diff_temp shape = (117, 379)\n",
      "p_diff_avg shape = (117,)\n",
      "Iteration i = 3\n",
      "p_diff_temp shape = (117, 392)\n",
      "p_diff_avg shape = (117,)\n",
      "Iteration i = 4\n",
      "p_diff_temp shape = (117, 536)\n",
      "p_diff_avg shape = (117,)\n",
      "Iteration i = 5\n",
      "p_diff_temp shape = (117, 648)\n",
      "p_diff_avg shape = (117,)\n",
      "Iteration i = 6\n",
      "p_diff_temp shape = (117, 704)\n",
      "p_diff_avg shape = (117,)\n",
      "Iteration i = 7\n",
      "p_diff_temp shape = (117, 273)\n",
      "p_diff_avg shape = (117,)\n",
      "Iteration i = 8\n",
      "p_diff_temp shape = (117, 242)\n",
      "p_diff_avg shape = (117,)\n",
      "Iteration i = 9\n",
      "p_diff_temp shape = (117, 239)\n",
      "p_diff_avg shape = (117,)\n",
      "Iteration i = 10\n",
      "p_diff_temp shape = (117, 335)\n",
      "p_diff_avg shape = (117,)\n",
      "Iteration i = 11\n",
      "p_diff_temp shape = (117, 395)\n",
      "p_diff_avg shape = (117,)\n",
      "Iteration i = 12\n",
      "p_diff_temp shape = (117, 384)\n",
      "p_diff_avg shape = (117,)\n",
      "Iteration i = 13\n",
      "p_diff_temp shape = (117, 299)\n",
      "p_diff_avg shape = (117,)\n",
      "Iteration i = 14\n",
      "p_diff_temp shape = (117, 379)\n",
      "p_diff_avg shape = (117,)\n",
      "Iteration i = 15\n",
      "p_diff_temp shape = (117, 260)\n",
      "p_diff_avg shape = (117,)\n",
      "Iteration i = 16\n",
      "p_diff_temp shape = (117, 295)\n",
      "p_diff_avg shape = (117,)\n",
      "Iteration i = 17\n",
      "p_diff_temp shape = (117, 260)\n",
      "p_diff_avg shape = (117,)\n",
      "Iteration i = 18\n",
      "p_diff_temp shape = (117, 261)\n",
      "p_diff_avg shape = (117,)\n",
      "Iteration i = 19\n",
      "p_diff_temp shape = (117, 349)\n",
      "p_diff_avg shape = (117,)\n",
      "Iteration i = 20\n",
      "p_diff_temp shape = (117, 308)\n",
      "p_diff_avg shape = (117,)\n",
      "Iteration i = 21\n",
      "p_diff_temp shape = (117, 268)\n",
      "p_diff_avg shape = (117,)\n",
      "Iteration i = 22\n",
      "p_diff_temp shape = (117, 256)\n",
      "p_diff_avg shape = (117,)\n",
      "Iteration i = 23\n",
      "p_diff_temp shape = (117, 508)\n",
      "p_diff_avg shape = (117,)\n",
      "Iteration i = 24\n",
      "p_diff_temp shape = (117, 428)\n",
      "p_diff_avg shape = (117,)\n",
      "Iteration i = 25\n",
      "p_diff_temp shape = (117, 500)\n",
      "p_diff_avg shape = (117,)\n",
      "Iteration i = 26\n",
      "p_diff_temp shape = (117, 422)\n",
      "p_diff_avg shape = (117,)\n",
      "Iteration i = 27\n",
      "p_diff_temp shape = (117, 353)\n",
      "p_diff_avg shape = (117,)\n",
      "Iteration i = 28\n",
      "p_diff_temp shape = (117, 399)\n",
      "p_diff_avg shape = (117,)\n",
      "Iteration i = 29\n",
      "p_diff_temp shape = (117, 436)\n",
      "p_diff_avg shape = (117,)\n",
      "Iteration i = 30\n",
      "p_diff_temp shape = (117, 467)\n",
      "p_diff_avg shape = (117,)\n",
      "Iteration i = 35\n",
      "p_diff_temp shape = (117, 916)\n",
      "p_diff_avg shape = (117,)\n",
      "Iteration i = 36\n",
      "p_diff_temp shape = (117, 914)\n",
      "p_diff_avg shape = (117,)\n",
      "Iteration i = 37\n",
      "p_diff_temp shape = (117, 526)\n",
      "p_diff_avg shape = (117,)\n",
      "Iteration i = 38\n",
      "p_diff_temp shape = (117, 477)\n",
      "p_diff_avg shape = (117,)\n",
      "Iteration i = 39\n",
      "p_diff_temp shape = (117, 289)\n",
      "p_diff_avg shape = (117,)\n",
      "Iteration i = 40\n",
      "p_diff_temp shape = (117, 330)\n",
      "p_diff_avg shape = (117,)\n",
      "Iteration i = 41\n",
      "p_diff_temp shape = (117, 926)\n",
      "p_diff_avg shape = (117,)\n"
     ]
    }
   ],
   "source": [
    "p_diff = erlc.getAveragePDforEachAttack(X_test, y_test)"
   ]
  },
  {
   "cell_type": "code",
   "execution_count": 7,
   "metadata": {},
   "outputs": [
    {
     "data": {
      "text/plain": [
       "(117,)"
      ]
     },
     "execution_count": 7,
     "metadata": {},
     "output_type": "execute_result"
    }
   ],
   "source": [
    "erlc.normal_means.shape"
   ]
  },
  {
   "cell_type": "code",
   "execution_count": 8,
   "metadata": {},
   "outputs": [
    {
     "data": {
      "text/plain": [
       "(37, 117)"
      ]
     },
     "execution_count": 8,
     "metadata": {},
     "output_type": "execute_result"
    }
   ],
   "source": [
    "p_diff.shape"
   ]
  },
  {
   "cell_type": "code",
   "execution_count": 9,
   "metadata": {},
   "outputs": [
    {
     "data": {
      "text/plain": [
       "<matplotlib.axes._subplots.AxesSubplot at 0x7fc4690b85e0>"
      ]
     },
     "execution_count": 9,
     "metadata": {},
     "output_type": "execute_result"
    },
    {
     "data": {
      "image/png": "[encoded data removed]",
      "text/plain": [
       "<Figure size 720x1440 with 2 Axes>"
      ]
     },
     "metadata": {
      "needs_background": "light"
     },
     "output_type": "display_data"
    }
   ],
   "source": [
    "plt.figure(figsize=(10,20))\n",
    "x_axis_labels = np.unique(y_test)\n",
    "y_axis_labels = dataPipeline.getFeatureLabels(data)\n",
    "sns.heatmap(np.transpose(p_diff), xticklabels=x_axis_labels, yticklabels=y_axis_labels)"
   ]
  },
  {
   "cell_type": "code",
   "execution_count": 14,
   "metadata": {},
   "outputs": [
    {
     "data": {
      "text/plain": [
       "[0.526823560323494,\n",
       " 0.5289023209446065,\n",
       " 0.5269256350221359,\n",
       " 0.5267004287440247,\n",
       " 0.5240080905356382,\n",
       " 0.5277104888989803,\n",
       " 0.5258371400718476,\n",
       " 0.5211488895050047,\n",
       " 0.5231395875527677,\n",
       " 0.5266544130055103,\n",
       " 0.5243002214710173,\n",
       " 0.5252057933791753,\n",
       " 0.5296245885503996,\n",
       " 0.5258516362933104,\n",
       " 0.5311299015716897,\n",
       " 0.5328807891518842,\n",
       " 0.5252442010440622,\n",
       " 0.5281881047597852,\n",
       " 0.5320454803701776,\n",
       " 0.5306203325944879,\n",
       " 0.5205085569379034,\n",
       " 0.531586723919046,\n",
       " 0.5267103957225054,\n",
       " 0.5340919693457042,\n",
       " 0.5385211277825904,\n",
       " 0.5315105415009841,\n",
       " 0.5293814203836475,\n",
       " 0.5283436738511756,\n",
       " 0.5298025288848199,\n",
       " 0.5294034986039051,\n",
       " 0.529078962837197,\n",
       " 0.530595694992607,\n",
       " 0.5338429770598566,\n",
       " 0.5280136725676134,\n",
       " 0.5318592071951088,\n",
       " 0.5337566460842068,\n",
       " 0.5318595016398526]"
      ]
     },
     "execution_count": 14,
     "metadata": {},
     "output_type": "execute_result"
    }
   ],
   "source": [
    "means = []\n",
    "for i in range(p_diff.shape[0]):\n",
    "    max_temp = np.where(n_diff == np.max(p_diff[i]))\n",
    "    means.append(mean_temp)\n",
    "    \n",
    "means"
   ]
  },
  {
   "cell_type": "code",
   "execution_count": 11,
   "metadata": {},
   "outputs": [
    {
     "data": {
      "text/plain": [
       "(117,)"
      ]
     },
     "execution_count": 11,
     "metadata": {},
     "output_type": "execute_result"
    }
   ],
   "source": [
    "p_diff[0].shape"
   ]
  },
  {
   "cell_type": "code",
   "execution_count": null,
   "metadata": {},
   "outputs": [],
   "source": []
  }
 ],
 "metadata": {
  "kernelspec": {
   "display_name": "multiclass_IDS_env",
   "language": "python",
   "name": "multiclass_ids_env"
  },
  "language_info": {
   "codemirror_mode": {
    "name": "ipython",
    "version": 3
   },
   "file_extension": ".py",
   "mimetype": "text/x-python",
   "name": "python",
   "nbconvert_exporter": "python",
   "pygments_lexer": "ipython3",
   "version": "3.8.2"
  }
 },
 "nbformat": 4,
 "nbformat_minor": 4
}
