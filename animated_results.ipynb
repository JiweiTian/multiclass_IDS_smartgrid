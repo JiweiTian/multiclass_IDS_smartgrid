{
 "cells": [
  {
   "cell_type": "code",
   "execution_count": 1,
   "metadata": {},
   "outputs": [],
   "source": [
    "import pandas as pd\n",
    "import seaborn as sns\n",
    "import matplotlib.pyplot as plt\n",
    "from matplotlib import animation\n",
    "import numpy as np\n",
    "import os"
   ]
  },
  {
   "cell_type": "markdown",
   "metadata": {},
   "source": [
    "## Loading and Processing Data"
   ]
  },
  {
   "cell_type": "code",
   "execution_count": 2,
   "metadata": {},
   "outputs": [],
   "source": [
    "data_dt = pd.read_excel('output/Results_10CV.xlsx', sheet_name = 'DecisionTreeClassifier')\n",
    "data_rf = pd.read_excel('output/Results_10CV.xlsx', sheet_name = 'RandomForestClassifier')\n",
    "data_knn = pd.read_excel('output/Results_10CV.xlsx', sheet_name = 'KNeighborsClassifier')\n",
    "data_erlc = pd.read_excel('output/Results_10CV.xlsx', sheet_name = 'ERLC')"
   ]
  },
  {
   "cell_type": "code",
   "execution_count": 3,
   "metadata": {},
   "outputs": [],
   "source": [
    "def get_metric(data_array, metric='Accuracy'):\n",
    "    models = ['DecisionTreeClassifier', 'RandomForestClassifier', 'KNeighborsClassifier', 'ERLC' ]\n",
    "    df = pd.DataFrame()\n",
    "    for i in range(len(data_array)):\n",
    "        temp = data_array[i]\n",
    "        temp2 = temp[metric]\n",
    "        df[models[i]] = temp2\n",
    "        \n",
    "    return df"
   ]
  },
  {
   "cell_type": "code",
   "execution_count": 4,
   "metadata": {},
   "outputs": [],
   "source": [
    "model_names = ['DT', 'RF', 'KNN', 'ERLC']"
   ]
  },
  {
   "cell_type": "code",
   "execution_count": 5,
   "metadata": {},
   "outputs": [],
   "source": [
    "acc = get_metric([data_dt, data_rf, data_knn, data_erlc])\n",
    "f1 = get_metric([data_dt, data_rf, data_knn, data_erlc], metric='F1-Score')\n",
    "mcc = get_metric([data_dt, data_rf, data_knn, data_erlc], metric='MCC')"
   ]
  },
  {
   "cell_type": "code",
   "execution_count": 6,
   "metadata": {},
   "outputs": [],
   "source": [
    "def getStats(df):\n",
    "    '''\n",
    "    Get the mean and standard deviation of columns of a dataframe\n",
    "    '''\n",
    "    means = []\n",
    "    stds = []\n",
    "    for c in df.columns:\n",
    "        means.append(df[c].mean())\n",
    "        stds.append(df[c].std())\n",
    "\n",
    "    return means,stds"
   ]
  },
  {
   "cell_type": "code",
   "execution_count": 7,
   "metadata": {},
   "outputs": [],
   "source": [
    "acc_means, acc_stds = getStats(acc)\n",
    "f1_means, f1_stds = getStats(f1)\n",
    "mcc_means, mcc_stds = getStats(mcc)"
   ]
  },
  {
   "cell_type": "code",
   "execution_count": 8,
   "metadata": {},
   "outputs": [
    {
     "data": {
      "text/plain": [
       "[0.9106370491543979,\n",
       " 0.9238424204730455,\n",
       " 0.7531163031091221,\n",
       " 0.9500490945213367]"
      ]
     },
     "execution_count": 8,
     "metadata": {},
     "output_type": "execute_result"
    }
   ],
   "source": [
    "acc_means"
   ]
  },
  {
   "cell_type": "markdown",
   "metadata": {},
   "source": [
    "## Accuracy Animation"
   ]
  },
  {
   "cell_type": "code",
   "execution_count": 84,
   "metadata": {},
   "outputs": [
    {
     "data": {
      "image/png": "[encoded data removed]",
      "text/plain": [
       "<Figure size 720x432 with 1 Axes>"
      ]
     },
     "metadata": {
      "needs_background": "light"
     },
     "output_type": "display_data"
    }
   ],
   "source": [
    "plt.rcParams['animation.ffmpeg_path'] = 'C:\\\\FFMPEG\\\\ffmpeg-20200628-4cfcfb3-win64-static\\\\ffmpeg-20200628-4cfcfb3-win64-static\\\\bin\\\\ffmpeg.exe'\n",
    "n=100 #Number of frames\n",
    "FFwriter = animation.FFMpegWriter(fps = n)\n",
    "\n",
    "fig = plt.figure(figsize = (10,6))\n",
    "\n",
    "position = np.arange(4) + .5 \n",
    "\n",
    "plt.tick_params(axis = 'x', colors = '#696969')\n",
    "plt.tick_params(axis = 'y', colors = '#696969')\n",
    "\n",
    "speeds = [1, 2, 3, 4]\n",
    "heights = acc_means\n",
    "\n",
    "\n",
    "rects = plt.barh(position, heights, 0.5,  align = 'center',\n",
    "                 color = ['#D4E09B', '#9CB380', '#94A89A', '#C7AC92'], \n",
    "                 edgecolor = ['#000000'],\n",
    "                 linewidth = 2)\n",
    "\n",
    "plt.yticks(position, model_names)\n",
    "\n",
    "plt.xlabel('Accuracy', color = '#000000', fontsize = 14)\n",
    "plt.ylabel('Model', color = '#000000', fontsize = 14)\n",
    "plt.title('Average 10 Fold Accuracy', color = '#000000', fontsize = 20)\n",
    "\n",
    "# Add text value at end of bar\n",
    "for i, v in enumerate(heights):\n",
    "    plt.text(100*v - 7, i + 0.5, str( round(100*v, 2) ), color='black', fontweight='bold')\n",
    "    \n",
    "    \n",
    "plt.xlim((0,100))\n",
    "plt.ylim((0,4))\n",
    "\n",
    "plt.grid(True)\n",
    "\n",
    "rs = [r for r in rects]\n",
    "\n",
    "def init():\n",
    "    return rs\n",
    "\n",
    "def animate(i):\n",
    "    global rs, heights\n",
    "    if all(map(lambda x: x==100, heights)):\n",
    "        heights = [0, 0, 0, 0]\n",
    "    else:\n",
    "        heights = [min(h+s,100*acc) for h,s,acc in zip(heights,speeds, acc_means)]\n",
    "    for h,r in zip(heights,rs):\n",
    "        r.set_width(h)\n",
    "    return rs\n",
    "\n",
    "anim=animation.FuncAnimation(fig,animate,repeat=False,blit=False,frames=n,\n",
    "                             interval=400)\n",
    "\n",
    "anim.save('output/animations/accuracy_anim.mp4', writer=FFwriter)\n",
    "\n",
    "\n",
    "plt.show()"
   ]
  },
  {
   "cell_type": "markdown",
   "metadata": {},
   "source": [
    "## F1 Animation"
   ]
  },
  {
   "cell_type": "code",
   "execution_count": 87,
   "metadata": {},
   "outputs": [
    {
     "data": {
      "image/png": "[encoded data removed]",
      "text/plain": [
       "<Figure size 720x432 with 1 Axes>"
      ]
     },
     "metadata": {
      "needs_background": "light"
     },
     "output_type": "display_data"
    }
   ],
   "source": [
    "plt.rcParams['animation.ffmpeg_path'] = 'C:\\\\FFMPEG\\\\ffmpeg-20200628-4cfcfb3-win64-static\\\\ffmpeg-20200628-4cfcfb3-win64-static\\\\bin\\\\ffmpeg.exe'\n",
    "n=100 #Number of frames\n",
    "FFwriter = animation.FFMpegWriter(fps = n)\n",
    "\n",
    "fig = plt.figure(figsize = (10,6))\n",
    "\n",
    "position = np.arange(4) + .5 \n",
    "\n",
    "plt.tick_params(axis = 'x', colors = '#696969')\n",
    "plt.tick_params(axis = 'y', colors = '#696969')\n",
    "\n",
    "speeds = [1, 2, 3, 4]\n",
    "heights = f1_means\n",
    "\n",
    "\n",
    "rects = plt.barh(position, heights, 0.5,  align = 'center',\n",
    "                 color = ['#D4E09B', '#9CB380', '#94A89A', '#C7AC92'], \n",
    "                 edgecolor = ['#000000'],\n",
    "                 linewidth = 2)\n",
    "\n",
    "plt.yticks(position, model_names)\n",
    "\n",
    "plt.xlabel('F1-Score', color = '#000000', fontsize = 14)\n",
    "plt.ylabel('Model', color = '#000000', fontsize = 14)\n",
    "plt.title('Average 10 Fold F1-Score', color = '#000000', fontsize = 20)\n",
    "\n",
    "# Add text value at end of bar\n",
    "for i, v in enumerate(heights):\n",
    "    plt.text(100*v - 7, i + 0.5, str( round(100*v, 2) ), color='black', fontweight='bold')\n",
    "    \n",
    "    \n",
    "plt.xlim((0,100))\n",
    "plt.ylim((0,4))\n",
    "\n",
    "plt.grid(True)\n",
    "\n",
    "rs = [r for r in rects]\n",
    "\n",
    "def init():\n",
    "    return rs\n",
    "\n",
    "def animate(i):\n",
    "    global rs, heights\n",
    "    if all(map(lambda x: x==100, heights)):\n",
    "        heights = [0, 0, 0, 0]\n",
    "    else:\n",
    "        heights = [min(h+s,100*f1) for h,s,f1 in zip(heights,speeds, f1_means)]\n",
    "    for h,r in zip(heights,rs):\n",
    "        r.set_width(h)\n",
    "    return rs\n",
    "\n",
    "anim=animation.FuncAnimation(fig,animate,repeat=False,blit=False,frames=n,\n",
    "                             interval=400)\n",
    "\n",
    "anim.save('output/animations/f1_anim.mp4', writer=FFwriter)\n",
    "\n",
    "\n",
    "plt.show()"
   ]
  },
  {
   "cell_type": "code",
   "execution_count": null,
   "metadata": {},
   "outputs": [],
   "source": []
  }
 ],
 "metadata": {
  "kernelspec": {
   "display_name": "multiclass_IDS_env",
   "language": "python",
   "name": "multiclass_ids_env"
  },
  "language_info": {
   "codemirror_mode": {
    "name": "ipython",
    "version": 3
   },
   "file_extension": ".py",
   "mimetype": "text/x-python",
   "name": "python",
   "nbconvert_exporter": "python",
   "pygments_lexer": "ipython3",
   "version": "3.7.6"
  }
 },
 "nbformat": 4,
 "nbformat_minor": 4
}
